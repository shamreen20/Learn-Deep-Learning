{
  "nbformat": 4,
  "nbformat_minor": 0,
  "metadata": {
    "colab": {
      "name": "ANN.ipynb",
      "provenance": [],
      "mount_file_id": "1CAHjqdaKk2mV3PfW1auw3-z9QxA9GRoW",
      "authorship_tag": "ABX9TyONzNnp9U4rgqU5rVF8t9uq",
      "include_colab_link": true
    },
    "kernelspec": {
      "name": "python3",
      "display_name": "Python 3"
    },
    "accelerator": "GPU"
  },
  "cells": [
    {
      "cell_type": "markdown",
      "metadata": {
        "id": "view-in-github",
        "colab_type": "text"
      },
      "source": [
        "<a href=\"https://colab.research.google.com/github/shamreen20/Learn-Deep-Learning/blob/master/ANN.ipynb\" target=\"_parent\"><img src=\"https://colab.research.google.com/assets/colab-badge.svg\" alt=\"Open In Colab\"/></a>"
      ]
    },
    {
      "cell_type": "markdown",
      "metadata": {
        "id": "SipzXm-RHTut",
        "colab_type": "text"
      },
      "source": [
        "#This ANN project is about wheater a customer is continuing with bank or exit.\n",
        "Dependent column is existed and all other columns are independent."
      ]
    },
    {
      "cell_type": "code",
      "metadata": {
        "id": "Sop3bxwC8W1p",
        "colab_type": "code",
        "colab": {}
      },
      "source": [
        "import pandas as pd\n",
        "import matplotlib.pyplot as plt\n",
        "import numpy as np"
      ],
      "execution_count": 3,
      "outputs": []
    },
    {
      "cell_type": "markdown",
      "metadata": {
        "id": "vu22iSYdIswX",
        "colab_type": "text"
      },
      "source": [
        "#import Dataset"
      ]
    },
    {
      "cell_type": "code",
      "metadata": {
        "id": "gi3KTALk8sLF",
        "colab_type": "code",
        "colab": {
          "base_uri": "https://localhost:8080/",
          "height": 54
        },
        "outputId": "0b4ac507-4cfb-45c9-a830-301464530413"
      },
      "source": [
        "from google.colab import drive\n",
        "drive.mount('/content/drive')\n"
      ],
      "execution_count": 1,
      "outputs": [
        {
          "output_type": "stream",
          "text": [
            "Drive already mounted at /content/drive; to attempt to forcibly remount, call drive.mount(\"/content/drive\", force_remount=True).\n"
          ],
          "name": "stdout"
        }
      ]
    },
    {
      "cell_type": "code",
      "metadata": {
        "id": "t5N4nhJT_FS0",
        "colab_type": "code",
        "colab": {}
      },
      "source": [
        "df = pd.read_csv(\"/content/drive/My Drive/datasets_13831_18644_Churn_Modelling.csv\") "
      ],
      "execution_count": 4,
      "outputs": []
    },
    {
      "cell_type": "markdown",
      "metadata": {
        "id": "SHEHlcMIIyny",
        "colab_type": "text"
      },
      "source": [
        "#Exploring Data"
      ]
    },
    {
      "cell_type": "code",
      "metadata": {
        "id": "qErI5qH3G4zB",
        "colab_type": "code",
        "colab": {
          "base_uri": "https://localhost:8080/",
          "height": 224
        },
        "outputId": "0ebc55d7-9a2c-42a9-98a3-cab32fb1d8af"
      },
      "source": [
        "df.head()"
      ],
      "execution_count": 5,
      "outputs": [
        {
          "output_type": "execute_result",
          "data": {
            "text/html": [
              "<div>\n",
              "<style scoped>\n",
              "    .dataframe tbody tr th:only-of-type {\n",
              "        vertical-align: middle;\n",
              "    }\n",
              "\n",
              "    .dataframe tbody tr th {\n",
              "        vertical-align: top;\n",
              "    }\n",
              "\n",
              "    .dataframe thead th {\n",
              "        text-align: right;\n",
              "    }\n",
              "</style>\n",
              "<table border=\"1\" class=\"dataframe\">\n",
              "  <thead>\n",
              "    <tr style=\"text-align: right;\">\n",
              "      <th></th>\n",
              "      <th>RowNumber</th>\n",
              "      <th>CustomerId</th>\n",
              "      <th>Surname</th>\n",
              "      <th>CreditScore</th>\n",
              "      <th>Geography</th>\n",
              "      <th>Gender</th>\n",
              "      <th>Age</th>\n",
              "      <th>Tenure</th>\n",
              "      <th>Balance</th>\n",
              "      <th>NumOfProducts</th>\n",
              "      <th>HasCrCard</th>\n",
              "      <th>IsActiveMember</th>\n",
              "      <th>EstimatedSalary</th>\n",
              "      <th>Exited</th>\n",
              "    </tr>\n",
              "  </thead>\n",
              "  <tbody>\n",
              "    <tr>\n",
              "      <th>0</th>\n",
              "      <td>1</td>\n",
              "      <td>15634602</td>\n",
              "      <td>Hargrave</td>\n",
              "      <td>619</td>\n",
              "      <td>France</td>\n",
              "      <td>Female</td>\n",
              "      <td>42</td>\n",
              "      <td>2</td>\n",
              "      <td>0.00</td>\n",
              "      <td>1</td>\n",
              "      <td>1</td>\n",
              "      <td>1</td>\n",
              "      <td>101348.88</td>\n",
              "      <td>1</td>\n",
              "    </tr>\n",
              "    <tr>\n",
              "      <th>1</th>\n",
              "      <td>2</td>\n",
              "      <td>15647311</td>\n",
              "      <td>Hill</td>\n",
              "      <td>608</td>\n",
              "      <td>Spain</td>\n",
              "      <td>Female</td>\n",
              "      <td>41</td>\n",
              "      <td>1</td>\n",
              "      <td>83807.86</td>\n",
              "      <td>1</td>\n",
              "      <td>0</td>\n",
              "      <td>1</td>\n",
              "      <td>112542.58</td>\n",
              "      <td>0</td>\n",
              "    </tr>\n",
              "    <tr>\n",
              "      <th>2</th>\n",
              "      <td>3</td>\n",
              "      <td>15619304</td>\n",
              "      <td>Onio</td>\n",
              "      <td>502</td>\n",
              "      <td>France</td>\n",
              "      <td>Female</td>\n",
              "      <td>42</td>\n",
              "      <td>8</td>\n",
              "      <td>159660.80</td>\n",
              "      <td>3</td>\n",
              "      <td>1</td>\n",
              "      <td>0</td>\n",
              "      <td>113931.57</td>\n",
              "      <td>1</td>\n",
              "    </tr>\n",
              "    <tr>\n",
              "      <th>3</th>\n",
              "      <td>4</td>\n",
              "      <td>15701354</td>\n",
              "      <td>Boni</td>\n",
              "      <td>699</td>\n",
              "      <td>France</td>\n",
              "      <td>Female</td>\n",
              "      <td>39</td>\n",
              "      <td>1</td>\n",
              "      <td>0.00</td>\n",
              "      <td>2</td>\n",
              "      <td>0</td>\n",
              "      <td>0</td>\n",
              "      <td>93826.63</td>\n",
              "      <td>0</td>\n",
              "    </tr>\n",
              "    <tr>\n",
              "      <th>4</th>\n",
              "      <td>5</td>\n",
              "      <td>15737888</td>\n",
              "      <td>Mitchell</td>\n",
              "      <td>850</td>\n",
              "      <td>Spain</td>\n",
              "      <td>Female</td>\n",
              "      <td>43</td>\n",
              "      <td>2</td>\n",
              "      <td>125510.82</td>\n",
              "      <td>1</td>\n",
              "      <td>1</td>\n",
              "      <td>1</td>\n",
              "      <td>79084.10</td>\n",
              "      <td>0</td>\n",
              "    </tr>\n",
              "  </tbody>\n",
              "</table>\n",
              "</div>"
            ],
            "text/plain": [
              "   RowNumber  CustomerId   Surname  ...  IsActiveMember EstimatedSalary Exited\n",
              "0          1    15634602  Hargrave  ...               1       101348.88      1\n",
              "1          2    15647311      Hill  ...               1       112542.58      0\n",
              "2          3    15619304      Onio  ...               0       113931.57      1\n",
              "3          4    15701354      Boni  ...               0        93826.63      0\n",
              "4          5    15737888  Mitchell  ...               1        79084.10      0\n",
              "\n",
              "[5 rows x 14 columns]"
            ]
          },
          "metadata": {
            "tags": []
          },
          "execution_count": 5
        }
      ]
    },
    {
      "cell_type": "code",
      "metadata": {
        "id": "9uNwlt3XG60E",
        "colab_type": "code",
        "colab": {
          "base_uri": "https://localhost:8080/",
          "height": 374
        },
        "outputId": "9dd4f18f-352a-4cab-8249-9cdb65505517"
      },
      "source": [
        "df.info()"
      ],
      "execution_count": 6,
      "outputs": [
        {
          "output_type": "stream",
          "text": [
            "<class 'pandas.core.frame.DataFrame'>\n",
            "RangeIndex: 10000 entries, 0 to 9999\n",
            "Data columns (total 14 columns):\n",
            " #   Column           Non-Null Count  Dtype  \n",
            "---  ------           --------------  -----  \n",
            " 0   RowNumber        10000 non-null  int64  \n",
            " 1   CustomerId       10000 non-null  int64  \n",
            " 2   Surname          10000 non-null  object \n",
            " 3   CreditScore      10000 non-null  int64  \n",
            " 4   Geography        10000 non-null  object \n",
            " 5   Gender           10000 non-null  object \n",
            " 6   Age              10000 non-null  int64  \n",
            " 7   Tenure           10000 non-null  int64  \n",
            " 8   Balance          10000 non-null  float64\n",
            " 9   NumOfProducts    10000 non-null  int64  \n",
            " 10  HasCrCard        10000 non-null  int64  \n",
            " 11  IsActiveMember   10000 non-null  int64  \n",
            " 12  EstimatedSalary  10000 non-null  float64\n",
            " 13  Exited           10000 non-null  int64  \n",
            "dtypes: float64(2), int64(9), object(3)\n",
            "memory usage: 1.1+ MB\n"
          ],
          "name": "stdout"
        }
      ]
    },
    {
      "cell_type": "code",
      "metadata": {
        "id": "jdqrexojHDTe",
        "colab_type": "code",
        "colab": {
          "base_uri": "https://localhost:8080/",
          "height": 317
        },
        "outputId": "9a50231a-2ebc-4eb0-bf0a-f8583934a102"
      },
      "source": [
        "df.describe()"
      ],
      "execution_count": 7,
      "outputs": [
        {
          "output_type": "execute_result",
          "data": {
            "text/html": [
              "<div>\n",
              "<style scoped>\n",
              "    .dataframe tbody tr th:only-of-type {\n",
              "        vertical-align: middle;\n",
              "    }\n",
              "\n",
              "    .dataframe tbody tr th {\n",
              "        vertical-align: top;\n",
              "    }\n",
              "\n",
              "    .dataframe thead th {\n",
              "        text-align: right;\n",
              "    }\n",
              "</style>\n",
              "<table border=\"1\" class=\"dataframe\">\n",
              "  <thead>\n",
              "    <tr style=\"text-align: right;\">\n",
              "      <th></th>\n",
              "      <th>RowNumber</th>\n",
              "      <th>CustomerId</th>\n",
              "      <th>CreditScore</th>\n",
              "      <th>Age</th>\n",
              "      <th>Tenure</th>\n",
              "      <th>Balance</th>\n",
              "      <th>NumOfProducts</th>\n",
              "      <th>HasCrCard</th>\n",
              "      <th>IsActiveMember</th>\n",
              "      <th>EstimatedSalary</th>\n",
              "      <th>Exited</th>\n",
              "    </tr>\n",
              "  </thead>\n",
              "  <tbody>\n",
              "    <tr>\n",
              "      <th>count</th>\n",
              "      <td>10000.00000</td>\n",
              "      <td>1.000000e+04</td>\n",
              "      <td>10000.000000</td>\n",
              "      <td>10000.000000</td>\n",
              "      <td>10000.000000</td>\n",
              "      <td>10000.000000</td>\n",
              "      <td>10000.000000</td>\n",
              "      <td>10000.00000</td>\n",
              "      <td>10000.000000</td>\n",
              "      <td>10000.000000</td>\n",
              "      <td>10000.000000</td>\n",
              "    </tr>\n",
              "    <tr>\n",
              "      <th>mean</th>\n",
              "      <td>5000.50000</td>\n",
              "      <td>1.569094e+07</td>\n",
              "      <td>650.528800</td>\n",
              "      <td>38.921800</td>\n",
              "      <td>5.012800</td>\n",
              "      <td>76485.889288</td>\n",
              "      <td>1.530200</td>\n",
              "      <td>0.70550</td>\n",
              "      <td>0.515100</td>\n",
              "      <td>100090.239881</td>\n",
              "      <td>0.203700</td>\n",
              "    </tr>\n",
              "    <tr>\n",
              "      <th>std</th>\n",
              "      <td>2886.89568</td>\n",
              "      <td>7.193619e+04</td>\n",
              "      <td>96.653299</td>\n",
              "      <td>10.487806</td>\n",
              "      <td>2.892174</td>\n",
              "      <td>62397.405202</td>\n",
              "      <td>0.581654</td>\n",
              "      <td>0.45584</td>\n",
              "      <td>0.499797</td>\n",
              "      <td>57510.492818</td>\n",
              "      <td>0.402769</td>\n",
              "    </tr>\n",
              "    <tr>\n",
              "      <th>min</th>\n",
              "      <td>1.00000</td>\n",
              "      <td>1.556570e+07</td>\n",
              "      <td>350.000000</td>\n",
              "      <td>18.000000</td>\n",
              "      <td>0.000000</td>\n",
              "      <td>0.000000</td>\n",
              "      <td>1.000000</td>\n",
              "      <td>0.00000</td>\n",
              "      <td>0.000000</td>\n",
              "      <td>11.580000</td>\n",
              "      <td>0.000000</td>\n",
              "    </tr>\n",
              "    <tr>\n",
              "      <th>25%</th>\n",
              "      <td>2500.75000</td>\n",
              "      <td>1.562853e+07</td>\n",
              "      <td>584.000000</td>\n",
              "      <td>32.000000</td>\n",
              "      <td>3.000000</td>\n",
              "      <td>0.000000</td>\n",
              "      <td>1.000000</td>\n",
              "      <td>0.00000</td>\n",
              "      <td>0.000000</td>\n",
              "      <td>51002.110000</td>\n",
              "      <td>0.000000</td>\n",
              "    </tr>\n",
              "    <tr>\n",
              "      <th>50%</th>\n",
              "      <td>5000.50000</td>\n",
              "      <td>1.569074e+07</td>\n",
              "      <td>652.000000</td>\n",
              "      <td>37.000000</td>\n",
              "      <td>5.000000</td>\n",
              "      <td>97198.540000</td>\n",
              "      <td>1.000000</td>\n",
              "      <td>1.00000</td>\n",
              "      <td>1.000000</td>\n",
              "      <td>100193.915000</td>\n",
              "      <td>0.000000</td>\n",
              "    </tr>\n",
              "    <tr>\n",
              "      <th>75%</th>\n",
              "      <td>7500.25000</td>\n",
              "      <td>1.575323e+07</td>\n",
              "      <td>718.000000</td>\n",
              "      <td>44.000000</td>\n",
              "      <td>7.000000</td>\n",
              "      <td>127644.240000</td>\n",
              "      <td>2.000000</td>\n",
              "      <td>1.00000</td>\n",
              "      <td>1.000000</td>\n",
              "      <td>149388.247500</td>\n",
              "      <td>0.000000</td>\n",
              "    </tr>\n",
              "    <tr>\n",
              "      <th>max</th>\n",
              "      <td>10000.00000</td>\n",
              "      <td>1.581569e+07</td>\n",
              "      <td>850.000000</td>\n",
              "      <td>92.000000</td>\n",
              "      <td>10.000000</td>\n",
              "      <td>250898.090000</td>\n",
              "      <td>4.000000</td>\n",
              "      <td>1.00000</td>\n",
              "      <td>1.000000</td>\n",
              "      <td>199992.480000</td>\n",
              "      <td>1.000000</td>\n",
              "    </tr>\n",
              "  </tbody>\n",
              "</table>\n",
              "</div>"
            ],
            "text/plain": [
              "         RowNumber    CustomerId  ...  EstimatedSalary        Exited\n",
              "count  10000.00000  1.000000e+04  ...     10000.000000  10000.000000\n",
              "mean    5000.50000  1.569094e+07  ...    100090.239881      0.203700\n",
              "std     2886.89568  7.193619e+04  ...     57510.492818      0.402769\n",
              "min        1.00000  1.556570e+07  ...        11.580000      0.000000\n",
              "25%     2500.75000  1.562853e+07  ...     51002.110000      0.000000\n",
              "50%     5000.50000  1.569074e+07  ...    100193.915000      0.000000\n",
              "75%     7500.25000  1.575323e+07  ...    149388.247500      0.000000\n",
              "max    10000.00000  1.581569e+07  ...    199992.480000      1.000000\n",
              "\n",
              "[8 rows x 11 columns]"
            ]
          },
          "metadata": {
            "tags": []
          },
          "execution_count": 7
        }
      ]
    },
    {
      "cell_type": "markdown",
      "metadata": {
        "id": "ZxYd59CDI6eC",
        "colab_type": "text"
      },
      "source": [
        "in info section we see there are some object column, so we have to change it info interger for ML so that ML works on it."
      ]
    },
    {
      "cell_type": "code",
      "metadata": {
        "id": "Zu47jCeFKjeq",
        "colab_type": "code",
        "colab": {
          "base_uri": "https://localhost:8080/",
          "height": 85
        },
        "outputId": "20ffa9eb-68c0-4736-84f9-8f4a03e5f5b9"
      },
      "source": [
        "df.Geography.value_counts()"
      ],
      "execution_count": 8,
      "outputs": [
        {
          "output_type": "execute_result",
          "data": {
            "text/plain": [
              "France     5014\n",
              "Germany    2509\n",
              "Spain      2477\n",
              "Name: Geography, dtype: int64"
            ]
          },
          "metadata": {
            "tags": []
          },
          "execution_count": 8
        }
      ]
    },
    {
      "cell_type": "markdown",
      "metadata": {
        "id": "1oK82R2_Rh9C",
        "colab_type": "text"
      },
      "source": [
        "Use dummies for object-type column and also use \"drop_first=Ture\" for avoiding \"dummy variable trap\""
      ]
    },
    {
      "cell_type": "code",
      "metadata": {
        "id": "qjfgU2WLHNuj",
        "colab_type": "code",
        "colab": {
          "base_uri": "https://localhost:8080/",
          "height": 419
        },
        "outputId": "205b3432-6740-4660-8595-87bd6f01b849"
      },
      "source": [
        "Geography_d = pd.get_dummies(df.Geography, drop_first=True)\n",
        "Geography_d"
      ],
      "execution_count": 9,
      "outputs": [
        {
          "output_type": "execute_result",
          "data": {
            "text/html": [
              "<div>\n",
              "<style scoped>\n",
              "    .dataframe tbody tr th:only-of-type {\n",
              "        vertical-align: middle;\n",
              "    }\n",
              "\n",
              "    .dataframe tbody tr th {\n",
              "        vertical-align: top;\n",
              "    }\n",
              "\n",
              "    .dataframe thead th {\n",
              "        text-align: right;\n",
              "    }\n",
              "</style>\n",
              "<table border=\"1\" class=\"dataframe\">\n",
              "  <thead>\n",
              "    <tr style=\"text-align: right;\">\n",
              "      <th></th>\n",
              "      <th>Germany</th>\n",
              "      <th>Spain</th>\n",
              "    </tr>\n",
              "  </thead>\n",
              "  <tbody>\n",
              "    <tr>\n",
              "      <th>0</th>\n",
              "      <td>0</td>\n",
              "      <td>0</td>\n",
              "    </tr>\n",
              "    <tr>\n",
              "      <th>1</th>\n",
              "      <td>0</td>\n",
              "      <td>1</td>\n",
              "    </tr>\n",
              "    <tr>\n",
              "      <th>2</th>\n",
              "      <td>0</td>\n",
              "      <td>0</td>\n",
              "    </tr>\n",
              "    <tr>\n",
              "      <th>3</th>\n",
              "      <td>0</td>\n",
              "      <td>0</td>\n",
              "    </tr>\n",
              "    <tr>\n",
              "      <th>4</th>\n",
              "      <td>0</td>\n",
              "      <td>1</td>\n",
              "    </tr>\n",
              "    <tr>\n",
              "      <th>...</th>\n",
              "      <td>...</td>\n",
              "      <td>...</td>\n",
              "    </tr>\n",
              "    <tr>\n",
              "      <th>9995</th>\n",
              "      <td>0</td>\n",
              "      <td>0</td>\n",
              "    </tr>\n",
              "    <tr>\n",
              "      <th>9996</th>\n",
              "      <td>0</td>\n",
              "      <td>0</td>\n",
              "    </tr>\n",
              "    <tr>\n",
              "      <th>9997</th>\n",
              "      <td>0</td>\n",
              "      <td>0</td>\n",
              "    </tr>\n",
              "    <tr>\n",
              "      <th>9998</th>\n",
              "      <td>1</td>\n",
              "      <td>0</td>\n",
              "    </tr>\n",
              "    <tr>\n",
              "      <th>9999</th>\n",
              "      <td>0</td>\n",
              "      <td>0</td>\n",
              "    </tr>\n",
              "  </tbody>\n",
              "</table>\n",
              "<p>10000 rows × 2 columns</p>\n",
              "</div>"
            ],
            "text/plain": [
              "      Germany  Spain\n",
              "0           0      0\n",
              "1           0      1\n",
              "2           0      0\n",
              "3           0      0\n",
              "4           0      1\n",
              "...       ...    ...\n",
              "9995        0      0\n",
              "9996        0      0\n",
              "9997        0      0\n",
              "9998        1      0\n",
              "9999        0      0\n",
              "\n",
              "[10000 rows x 2 columns]"
            ]
          },
          "metadata": {
            "tags": []
          },
          "execution_count": 9
        }
      ]
    },
    {
      "cell_type": "code",
      "metadata": {
        "id": "5btffXNlKXZW",
        "colab_type": "code",
        "colab": {
          "base_uri": "https://localhost:8080/",
          "height": 419
        },
        "outputId": "a2b79f27-0f6c-4e64-f256-c823862e6538"
      },
      "source": [
        "Gender_d = pd.get_dummies(df.Gender,drop_first=True)\n",
        "Gender_d"
      ],
      "execution_count": 10,
      "outputs": [
        {
          "output_type": "execute_result",
          "data": {
            "text/html": [
              "<div>\n",
              "<style scoped>\n",
              "    .dataframe tbody tr th:only-of-type {\n",
              "        vertical-align: middle;\n",
              "    }\n",
              "\n",
              "    .dataframe tbody tr th {\n",
              "        vertical-align: top;\n",
              "    }\n",
              "\n",
              "    .dataframe thead th {\n",
              "        text-align: right;\n",
              "    }\n",
              "</style>\n",
              "<table border=\"1\" class=\"dataframe\">\n",
              "  <thead>\n",
              "    <tr style=\"text-align: right;\">\n",
              "      <th></th>\n",
              "      <th>Male</th>\n",
              "    </tr>\n",
              "  </thead>\n",
              "  <tbody>\n",
              "    <tr>\n",
              "      <th>0</th>\n",
              "      <td>0</td>\n",
              "    </tr>\n",
              "    <tr>\n",
              "      <th>1</th>\n",
              "      <td>0</td>\n",
              "    </tr>\n",
              "    <tr>\n",
              "      <th>2</th>\n",
              "      <td>0</td>\n",
              "    </tr>\n",
              "    <tr>\n",
              "      <th>3</th>\n",
              "      <td>0</td>\n",
              "    </tr>\n",
              "    <tr>\n",
              "      <th>4</th>\n",
              "      <td>0</td>\n",
              "    </tr>\n",
              "    <tr>\n",
              "      <th>...</th>\n",
              "      <td>...</td>\n",
              "    </tr>\n",
              "    <tr>\n",
              "      <th>9995</th>\n",
              "      <td>1</td>\n",
              "    </tr>\n",
              "    <tr>\n",
              "      <th>9996</th>\n",
              "      <td>1</td>\n",
              "    </tr>\n",
              "    <tr>\n",
              "      <th>9997</th>\n",
              "      <td>0</td>\n",
              "    </tr>\n",
              "    <tr>\n",
              "      <th>9998</th>\n",
              "      <td>1</td>\n",
              "    </tr>\n",
              "    <tr>\n",
              "      <th>9999</th>\n",
              "      <td>0</td>\n",
              "    </tr>\n",
              "  </tbody>\n",
              "</table>\n",
              "<p>10000 rows × 1 columns</p>\n",
              "</div>"
            ],
            "text/plain": [
              "      Male\n",
              "0        0\n",
              "1        0\n",
              "2        0\n",
              "3        0\n",
              "4        0\n",
              "...    ...\n",
              "9995     1\n",
              "9996     1\n",
              "9997     0\n",
              "9998     1\n",
              "9999     0\n",
              "\n",
              "[10000 rows x 1 columns]"
            ]
          },
          "metadata": {
            "tags": []
          },
          "execution_count": 10
        }
      ]
    },
    {
      "cell_type": "code",
      "metadata": {
        "id": "0IK-hS3UOTmo",
        "colab_type": "code",
        "colab": {}
      },
      "source": [
        "X = df.iloc[:,3:13]\n",
        "y = df.iloc[:,13]"
      ],
      "execution_count": 11,
      "outputs": []
    },
    {
      "cell_type": "code",
      "metadata": {
        "id": "E-kjQyo5PbqB",
        "colab_type": "code",
        "colab": {
          "base_uri": "https://localhost:8080/",
          "height": 85
        },
        "outputId": "7332be71-eba1-4bf9-a124-5ccd58269764"
      },
      "source": [
        "df.columns"
      ],
      "execution_count": 12,
      "outputs": [
        {
          "output_type": "execute_result",
          "data": {
            "text/plain": [
              "Index(['RowNumber', 'CustomerId', 'Surname', 'CreditScore', 'Geography',\n",
              "       'Gender', 'Age', 'Tenure', 'Balance', 'NumOfProducts', 'HasCrCard',\n",
              "       'IsActiveMember', 'EstimatedSalary', 'Exited'],\n",
              "      dtype='object')"
            ]
          },
          "metadata": {
            "tags": []
          },
          "execution_count": 12
        }
      ]
    },
    {
      "cell_type": "code",
      "metadata": {
        "id": "b9t7-OwQPDDN",
        "colab_type": "code",
        "colab": {
          "base_uri": "https://localhost:8080/",
          "height": 204
        },
        "outputId": "c02c1b0f-0012-469a-e7b6-74ecd0c5a62b"
      },
      "source": [
        "X.head()"
      ],
      "execution_count": 13,
      "outputs": [
        {
          "output_type": "execute_result",
          "data": {
            "text/html": [
              "<div>\n",
              "<style scoped>\n",
              "    .dataframe tbody tr th:only-of-type {\n",
              "        vertical-align: middle;\n",
              "    }\n",
              "\n",
              "    .dataframe tbody tr th {\n",
              "        vertical-align: top;\n",
              "    }\n",
              "\n",
              "    .dataframe thead th {\n",
              "        text-align: right;\n",
              "    }\n",
              "</style>\n",
              "<table border=\"1\" class=\"dataframe\">\n",
              "  <thead>\n",
              "    <tr style=\"text-align: right;\">\n",
              "      <th></th>\n",
              "      <th>CreditScore</th>\n",
              "      <th>Geography</th>\n",
              "      <th>Gender</th>\n",
              "      <th>Age</th>\n",
              "      <th>Tenure</th>\n",
              "      <th>Balance</th>\n",
              "      <th>NumOfProducts</th>\n",
              "      <th>HasCrCard</th>\n",
              "      <th>IsActiveMember</th>\n",
              "      <th>EstimatedSalary</th>\n",
              "    </tr>\n",
              "  </thead>\n",
              "  <tbody>\n",
              "    <tr>\n",
              "      <th>0</th>\n",
              "      <td>619</td>\n",
              "      <td>France</td>\n",
              "      <td>Female</td>\n",
              "      <td>42</td>\n",
              "      <td>2</td>\n",
              "      <td>0.00</td>\n",
              "      <td>1</td>\n",
              "      <td>1</td>\n",
              "      <td>1</td>\n",
              "      <td>101348.88</td>\n",
              "    </tr>\n",
              "    <tr>\n",
              "      <th>1</th>\n",
              "      <td>608</td>\n",
              "      <td>Spain</td>\n",
              "      <td>Female</td>\n",
              "      <td>41</td>\n",
              "      <td>1</td>\n",
              "      <td>83807.86</td>\n",
              "      <td>1</td>\n",
              "      <td>0</td>\n",
              "      <td>1</td>\n",
              "      <td>112542.58</td>\n",
              "    </tr>\n",
              "    <tr>\n",
              "      <th>2</th>\n",
              "      <td>502</td>\n",
              "      <td>France</td>\n",
              "      <td>Female</td>\n",
              "      <td>42</td>\n",
              "      <td>8</td>\n",
              "      <td>159660.80</td>\n",
              "      <td>3</td>\n",
              "      <td>1</td>\n",
              "      <td>0</td>\n",
              "      <td>113931.57</td>\n",
              "    </tr>\n",
              "    <tr>\n",
              "      <th>3</th>\n",
              "      <td>699</td>\n",
              "      <td>France</td>\n",
              "      <td>Female</td>\n",
              "      <td>39</td>\n",
              "      <td>1</td>\n",
              "      <td>0.00</td>\n",
              "      <td>2</td>\n",
              "      <td>0</td>\n",
              "      <td>0</td>\n",
              "      <td>93826.63</td>\n",
              "    </tr>\n",
              "    <tr>\n",
              "      <th>4</th>\n",
              "      <td>850</td>\n",
              "      <td>Spain</td>\n",
              "      <td>Female</td>\n",
              "      <td>43</td>\n",
              "      <td>2</td>\n",
              "      <td>125510.82</td>\n",
              "      <td>1</td>\n",
              "      <td>1</td>\n",
              "      <td>1</td>\n",
              "      <td>79084.10</td>\n",
              "    </tr>\n",
              "  </tbody>\n",
              "</table>\n",
              "</div>"
            ],
            "text/plain": [
              "   CreditScore Geography  Gender  ...  HasCrCard  IsActiveMember  EstimatedSalary\n",
              "0          619    France  Female  ...          1               1        101348.88\n",
              "1          608     Spain  Female  ...          0               1        112542.58\n",
              "2          502    France  Female  ...          1               0        113931.57\n",
              "3          699    France  Female  ...          0               0         93826.63\n",
              "4          850     Spain  Female  ...          1               1         79084.10\n",
              "\n",
              "[5 rows x 10 columns]"
            ]
          },
          "metadata": {
            "tags": []
          },
          "execution_count": 13
        }
      ]
    },
    {
      "cell_type": "code",
      "metadata": {
        "id": "XIJu9cJEPM4i",
        "colab_type": "code",
        "colab": {
          "base_uri": "https://localhost:8080/",
          "height": 439
        },
        "outputId": "c3dd93f6-75c3-42c5-ce12-46445c7fd323"
      },
      "source": [
        "X = pd.concat([X,Geography_d,Gender_d],axis=1)\n",
        "X"
      ],
      "execution_count": 14,
      "outputs": [
        {
          "output_type": "execute_result",
          "data": {
            "text/html": [
              "<div>\n",
              "<style scoped>\n",
              "    .dataframe tbody tr th:only-of-type {\n",
              "        vertical-align: middle;\n",
              "    }\n",
              "\n",
              "    .dataframe tbody tr th {\n",
              "        vertical-align: top;\n",
              "    }\n",
              "\n",
              "    .dataframe thead th {\n",
              "        text-align: right;\n",
              "    }\n",
              "</style>\n",
              "<table border=\"1\" class=\"dataframe\">\n",
              "  <thead>\n",
              "    <tr style=\"text-align: right;\">\n",
              "      <th></th>\n",
              "      <th>CreditScore</th>\n",
              "      <th>Geography</th>\n",
              "      <th>Gender</th>\n",
              "      <th>Age</th>\n",
              "      <th>Tenure</th>\n",
              "      <th>Balance</th>\n",
              "      <th>NumOfProducts</th>\n",
              "      <th>HasCrCard</th>\n",
              "      <th>IsActiveMember</th>\n",
              "      <th>EstimatedSalary</th>\n",
              "      <th>Germany</th>\n",
              "      <th>Spain</th>\n",
              "      <th>Male</th>\n",
              "    </tr>\n",
              "  </thead>\n",
              "  <tbody>\n",
              "    <tr>\n",
              "      <th>0</th>\n",
              "      <td>619</td>\n",
              "      <td>France</td>\n",
              "      <td>Female</td>\n",
              "      <td>42</td>\n",
              "      <td>2</td>\n",
              "      <td>0.00</td>\n",
              "      <td>1</td>\n",
              "      <td>1</td>\n",
              "      <td>1</td>\n",
              "      <td>101348.88</td>\n",
              "      <td>0</td>\n",
              "      <td>0</td>\n",
              "      <td>0</td>\n",
              "    </tr>\n",
              "    <tr>\n",
              "      <th>1</th>\n",
              "      <td>608</td>\n",
              "      <td>Spain</td>\n",
              "      <td>Female</td>\n",
              "      <td>41</td>\n",
              "      <td>1</td>\n",
              "      <td>83807.86</td>\n",
              "      <td>1</td>\n",
              "      <td>0</td>\n",
              "      <td>1</td>\n",
              "      <td>112542.58</td>\n",
              "      <td>0</td>\n",
              "      <td>1</td>\n",
              "      <td>0</td>\n",
              "    </tr>\n",
              "    <tr>\n",
              "      <th>2</th>\n",
              "      <td>502</td>\n",
              "      <td>France</td>\n",
              "      <td>Female</td>\n",
              "      <td>42</td>\n",
              "      <td>8</td>\n",
              "      <td>159660.80</td>\n",
              "      <td>3</td>\n",
              "      <td>1</td>\n",
              "      <td>0</td>\n",
              "      <td>113931.57</td>\n",
              "      <td>0</td>\n",
              "      <td>0</td>\n",
              "      <td>0</td>\n",
              "    </tr>\n",
              "    <tr>\n",
              "      <th>3</th>\n",
              "      <td>699</td>\n",
              "      <td>France</td>\n",
              "      <td>Female</td>\n",
              "      <td>39</td>\n",
              "      <td>1</td>\n",
              "      <td>0.00</td>\n",
              "      <td>2</td>\n",
              "      <td>0</td>\n",
              "      <td>0</td>\n",
              "      <td>93826.63</td>\n",
              "      <td>0</td>\n",
              "      <td>0</td>\n",
              "      <td>0</td>\n",
              "    </tr>\n",
              "    <tr>\n",
              "      <th>4</th>\n",
              "      <td>850</td>\n",
              "      <td>Spain</td>\n",
              "      <td>Female</td>\n",
              "      <td>43</td>\n",
              "      <td>2</td>\n",
              "      <td>125510.82</td>\n",
              "      <td>1</td>\n",
              "      <td>1</td>\n",
              "      <td>1</td>\n",
              "      <td>79084.10</td>\n",
              "      <td>0</td>\n",
              "      <td>1</td>\n",
              "      <td>0</td>\n",
              "    </tr>\n",
              "    <tr>\n",
              "      <th>...</th>\n",
              "      <td>...</td>\n",
              "      <td>...</td>\n",
              "      <td>...</td>\n",
              "      <td>...</td>\n",
              "      <td>...</td>\n",
              "      <td>...</td>\n",
              "      <td>...</td>\n",
              "      <td>...</td>\n",
              "      <td>...</td>\n",
              "      <td>...</td>\n",
              "      <td>...</td>\n",
              "      <td>...</td>\n",
              "      <td>...</td>\n",
              "    </tr>\n",
              "    <tr>\n",
              "      <th>9995</th>\n",
              "      <td>771</td>\n",
              "      <td>France</td>\n",
              "      <td>Male</td>\n",
              "      <td>39</td>\n",
              "      <td>5</td>\n",
              "      <td>0.00</td>\n",
              "      <td>2</td>\n",
              "      <td>1</td>\n",
              "      <td>0</td>\n",
              "      <td>96270.64</td>\n",
              "      <td>0</td>\n",
              "      <td>0</td>\n",
              "      <td>1</td>\n",
              "    </tr>\n",
              "    <tr>\n",
              "      <th>9996</th>\n",
              "      <td>516</td>\n",
              "      <td>France</td>\n",
              "      <td>Male</td>\n",
              "      <td>35</td>\n",
              "      <td>10</td>\n",
              "      <td>57369.61</td>\n",
              "      <td>1</td>\n",
              "      <td>1</td>\n",
              "      <td>1</td>\n",
              "      <td>101699.77</td>\n",
              "      <td>0</td>\n",
              "      <td>0</td>\n",
              "      <td>1</td>\n",
              "    </tr>\n",
              "    <tr>\n",
              "      <th>9997</th>\n",
              "      <td>709</td>\n",
              "      <td>France</td>\n",
              "      <td>Female</td>\n",
              "      <td>36</td>\n",
              "      <td>7</td>\n",
              "      <td>0.00</td>\n",
              "      <td>1</td>\n",
              "      <td>0</td>\n",
              "      <td>1</td>\n",
              "      <td>42085.58</td>\n",
              "      <td>0</td>\n",
              "      <td>0</td>\n",
              "      <td>0</td>\n",
              "    </tr>\n",
              "    <tr>\n",
              "      <th>9998</th>\n",
              "      <td>772</td>\n",
              "      <td>Germany</td>\n",
              "      <td>Male</td>\n",
              "      <td>42</td>\n",
              "      <td>3</td>\n",
              "      <td>75075.31</td>\n",
              "      <td>2</td>\n",
              "      <td>1</td>\n",
              "      <td>0</td>\n",
              "      <td>92888.52</td>\n",
              "      <td>1</td>\n",
              "      <td>0</td>\n",
              "      <td>1</td>\n",
              "    </tr>\n",
              "    <tr>\n",
              "      <th>9999</th>\n",
              "      <td>792</td>\n",
              "      <td>France</td>\n",
              "      <td>Female</td>\n",
              "      <td>28</td>\n",
              "      <td>4</td>\n",
              "      <td>130142.79</td>\n",
              "      <td>1</td>\n",
              "      <td>1</td>\n",
              "      <td>0</td>\n",
              "      <td>38190.78</td>\n",
              "      <td>0</td>\n",
              "      <td>0</td>\n",
              "      <td>0</td>\n",
              "    </tr>\n",
              "  </tbody>\n",
              "</table>\n",
              "<p>10000 rows × 13 columns</p>\n",
              "</div>"
            ],
            "text/plain": [
              "      CreditScore Geography  Gender  Age  ...  EstimatedSalary  Germany  Spain  Male\n",
              "0             619    France  Female   42  ...        101348.88        0      0     0\n",
              "1             608     Spain  Female   41  ...        112542.58        0      1     0\n",
              "2             502    France  Female   42  ...        113931.57        0      0     0\n",
              "3             699    France  Female   39  ...         93826.63        0      0     0\n",
              "4             850     Spain  Female   43  ...         79084.10        0      1     0\n",
              "...           ...       ...     ...  ...  ...              ...      ...    ...   ...\n",
              "9995          771    France    Male   39  ...         96270.64        0      0     1\n",
              "9996          516    France    Male   35  ...        101699.77        0      0     1\n",
              "9997          709    France  Female   36  ...         42085.58        0      0     0\n",
              "9998          772   Germany    Male   42  ...         92888.52        1      0     1\n",
              "9999          792    France  Female   28  ...         38190.78        0      0     0\n",
              "\n",
              "[10000 rows x 13 columns]"
            ]
          },
          "metadata": {
            "tags": []
          },
          "execution_count": 14
        }
      ]
    },
    {
      "cell_type": "code",
      "metadata": {
        "id": "yreh9mG1QPKh",
        "colab_type": "code",
        "colab": {
          "base_uri": "https://localhost:8080/",
          "height": 419
        },
        "outputId": "d33ea0b9-88a5-48ab-8687-2115cc741341"
      },
      "source": [
        "X = X.drop([\"Geography\",\"Gender\"], axis = 1)\n",
        "X"
      ],
      "execution_count": 15,
      "outputs": [
        {
          "output_type": "execute_result",
          "data": {
            "text/html": [
              "<div>\n",
              "<style scoped>\n",
              "    .dataframe tbody tr th:only-of-type {\n",
              "        vertical-align: middle;\n",
              "    }\n",
              "\n",
              "    .dataframe tbody tr th {\n",
              "        vertical-align: top;\n",
              "    }\n",
              "\n",
              "    .dataframe thead th {\n",
              "        text-align: right;\n",
              "    }\n",
              "</style>\n",
              "<table border=\"1\" class=\"dataframe\">\n",
              "  <thead>\n",
              "    <tr style=\"text-align: right;\">\n",
              "      <th></th>\n",
              "      <th>CreditScore</th>\n",
              "      <th>Age</th>\n",
              "      <th>Tenure</th>\n",
              "      <th>Balance</th>\n",
              "      <th>NumOfProducts</th>\n",
              "      <th>HasCrCard</th>\n",
              "      <th>IsActiveMember</th>\n",
              "      <th>EstimatedSalary</th>\n",
              "      <th>Germany</th>\n",
              "      <th>Spain</th>\n",
              "      <th>Male</th>\n",
              "    </tr>\n",
              "  </thead>\n",
              "  <tbody>\n",
              "    <tr>\n",
              "      <th>0</th>\n",
              "      <td>619</td>\n",
              "      <td>42</td>\n",
              "      <td>2</td>\n",
              "      <td>0.00</td>\n",
              "      <td>1</td>\n",
              "      <td>1</td>\n",
              "      <td>1</td>\n",
              "      <td>101348.88</td>\n",
              "      <td>0</td>\n",
              "      <td>0</td>\n",
              "      <td>0</td>\n",
              "    </tr>\n",
              "    <tr>\n",
              "      <th>1</th>\n",
              "      <td>608</td>\n",
              "      <td>41</td>\n",
              "      <td>1</td>\n",
              "      <td>83807.86</td>\n",
              "      <td>1</td>\n",
              "      <td>0</td>\n",
              "      <td>1</td>\n",
              "      <td>112542.58</td>\n",
              "      <td>0</td>\n",
              "      <td>1</td>\n",
              "      <td>0</td>\n",
              "    </tr>\n",
              "    <tr>\n",
              "      <th>2</th>\n",
              "      <td>502</td>\n",
              "      <td>42</td>\n",
              "      <td>8</td>\n",
              "      <td>159660.80</td>\n",
              "      <td>3</td>\n",
              "      <td>1</td>\n",
              "      <td>0</td>\n",
              "      <td>113931.57</td>\n",
              "      <td>0</td>\n",
              "      <td>0</td>\n",
              "      <td>0</td>\n",
              "    </tr>\n",
              "    <tr>\n",
              "      <th>3</th>\n",
              "      <td>699</td>\n",
              "      <td>39</td>\n",
              "      <td>1</td>\n",
              "      <td>0.00</td>\n",
              "      <td>2</td>\n",
              "      <td>0</td>\n",
              "      <td>0</td>\n",
              "      <td>93826.63</td>\n",
              "      <td>0</td>\n",
              "      <td>0</td>\n",
              "      <td>0</td>\n",
              "    </tr>\n",
              "    <tr>\n",
              "      <th>4</th>\n",
              "      <td>850</td>\n",
              "      <td>43</td>\n",
              "      <td>2</td>\n",
              "      <td>125510.82</td>\n",
              "      <td>1</td>\n",
              "      <td>1</td>\n",
              "      <td>1</td>\n",
              "      <td>79084.10</td>\n",
              "      <td>0</td>\n",
              "      <td>1</td>\n",
              "      <td>0</td>\n",
              "    </tr>\n",
              "    <tr>\n",
              "      <th>...</th>\n",
              "      <td>...</td>\n",
              "      <td>...</td>\n",
              "      <td>...</td>\n",
              "      <td>...</td>\n",
              "      <td>...</td>\n",
              "      <td>...</td>\n",
              "      <td>...</td>\n",
              "      <td>...</td>\n",
              "      <td>...</td>\n",
              "      <td>...</td>\n",
              "      <td>...</td>\n",
              "    </tr>\n",
              "    <tr>\n",
              "      <th>9995</th>\n",
              "      <td>771</td>\n",
              "      <td>39</td>\n",
              "      <td>5</td>\n",
              "      <td>0.00</td>\n",
              "      <td>2</td>\n",
              "      <td>1</td>\n",
              "      <td>0</td>\n",
              "      <td>96270.64</td>\n",
              "      <td>0</td>\n",
              "      <td>0</td>\n",
              "      <td>1</td>\n",
              "    </tr>\n",
              "    <tr>\n",
              "      <th>9996</th>\n",
              "      <td>516</td>\n",
              "      <td>35</td>\n",
              "      <td>10</td>\n",
              "      <td>57369.61</td>\n",
              "      <td>1</td>\n",
              "      <td>1</td>\n",
              "      <td>1</td>\n",
              "      <td>101699.77</td>\n",
              "      <td>0</td>\n",
              "      <td>0</td>\n",
              "      <td>1</td>\n",
              "    </tr>\n",
              "    <tr>\n",
              "      <th>9997</th>\n",
              "      <td>709</td>\n",
              "      <td>36</td>\n",
              "      <td>7</td>\n",
              "      <td>0.00</td>\n",
              "      <td>1</td>\n",
              "      <td>0</td>\n",
              "      <td>1</td>\n",
              "      <td>42085.58</td>\n",
              "      <td>0</td>\n",
              "      <td>0</td>\n",
              "      <td>0</td>\n",
              "    </tr>\n",
              "    <tr>\n",
              "      <th>9998</th>\n",
              "      <td>772</td>\n",
              "      <td>42</td>\n",
              "      <td>3</td>\n",
              "      <td>75075.31</td>\n",
              "      <td>2</td>\n",
              "      <td>1</td>\n",
              "      <td>0</td>\n",
              "      <td>92888.52</td>\n",
              "      <td>1</td>\n",
              "      <td>0</td>\n",
              "      <td>1</td>\n",
              "    </tr>\n",
              "    <tr>\n",
              "      <th>9999</th>\n",
              "      <td>792</td>\n",
              "      <td>28</td>\n",
              "      <td>4</td>\n",
              "      <td>130142.79</td>\n",
              "      <td>1</td>\n",
              "      <td>1</td>\n",
              "      <td>0</td>\n",
              "      <td>38190.78</td>\n",
              "      <td>0</td>\n",
              "      <td>0</td>\n",
              "      <td>0</td>\n",
              "    </tr>\n",
              "  </tbody>\n",
              "</table>\n",
              "<p>10000 rows × 11 columns</p>\n",
              "</div>"
            ],
            "text/plain": [
              "      CreditScore  Age  Tenure  ...  Germany  Spain  Male\n",
              "0             619   42       2  ...        0      0     0\n",
              "1             608   41       1  ...        0      1     0\n",
              "2             502   42       8  ...        0      0     0\n",
              "3             699   39       1  ...        0      0     0\n",
              "4             850   43       2  ...        0      1     0\n",
              "...           ...  ...     ...  ...      ...    ...   ...\n",
              "9995          771   39       5  ...        0      0     1\n",
              "9996          516   35      10  ...        0      0     1\n",
              "9997          709   36       7  ...        0      0     0\n",
              "9998          772   42       3  ...        1      0     1\n",
              "9999          792   28       4  ...        0      0     0\n",
              "\n",
              "[10000 rows x 11 columns]"
            ]
          },
          "metadata": {
            "tags": []
          },
          "execution_count": 15
        }
      ]
    },
    {
      "cell_type": "markdown",
      "metadata": {
        "id": "1q0C7XcjS8a6",
        "colab_type": "text"
      },
      "source": [
        "# Splitting the data into training set or test set"
      ]
    },
    {
      "cell_type": "code",
      "metadata": {
        "id": "jnutDS_mQjF-",
        "colab_type": "code",
        "colab": {}
      },
      "source": [
        "from sklearn.model_selection import train_test_split"
      ],
      "execution_count": 16,
      "outputs": []
    },
    {
      "cell_type": "code",
      "metadata": {
        "id": "uYHYDt9CSL3n",
        "colab_type": "code",
        "colab": {}
      },
      "source": [
        "X_train, X_test, y_train, y_test = train_test_split(X,y,test_size=0.2, random_state=0)"
      ],
      "execution_count": 17,
      "outputs": []
    },
    {
      "cell_type": "markdown",
      "metadata": {
        "id": "XISW7_dbTrEQ",
        "colab_type": "text"
      },
      "source": [
        "# Feature scaling\n",
        "In which we scaling the inputs, it is helping to execute the mathematical steps between input and hidden layer in deep learning."
      ]
    },
    {
      "cell_type": "code",
      "metadata": {
        "id": "Vl0GwlZjSqvV",
        "colab_type": "code",
        "colab": {}
      },
      "source": [
        "from sklearn.preprocessing import StandardScaler"
      ],
      "execution_count": 18,
      "outputs": []
    },
    {
      "cell_type": "code",
      "metadata": {
        "id": "JoYn8wKtVPh2",
        "colab_type": "code",
        "colab": {}
      },
      "source": [
        "sc = StandardScaler()"
      ],
      "execution_count": 19,
      "outputs": []
    },
    {
      "cell_type": "code",
      "metadata": {
        "id": "p1X0OzoiVVfU",
        "colab_type": "code",
        "colab": {}
      },
      "source": [
        "X_train = sc.fit_transform(X_train)\n",
        "X_test = sc.transform(X_test)"
      ],
      "execution_count": 20,
      "outputs": []
    },
    {
      "cell_type": "markdown",
      "metadata": {
        "id": "2GwBePwQVyjp",
        "colab_type": "text"
      },
      "source": [
        "#importing the Keras Libraries and packages for performing ANN"
      ]
    },
    {
      "cell_type": "code",
      "metadata": {
        "id": "3-PLYzz2VpI5",
        "colab_type": "code",
        "colab": {
          "base_uri": "https://localhost:8080/",
          "height": 34
        },
        "outputId": "7da19d79-80fd-40be-ada2-687574da6719"
      },
      "source": [
        "import keras\n",
        "from keras.models import Sequential\n",
        "from keras.layers import Dense"
      ],
      "execution_count": 21,
      "outputs": [
        {
          "output_type": "stream",
          "text": [
            "Using TensorFlow backend.\n"
          ],
          "name": "stderr"
        }
      ]
    },
    {
      "cell_type": "markdown",
      "metadata": {
        "id": "3iEFH7jIWgQI",
        "colab_type": "text"
      },
      "source": [
        "Dropout is a regularization parameter, we using it whenever the neural network is dense"
      ]
    },
    {
      "cell_type": "code",
      "metadata": {
        "id": "pR1It3ihWQnq",
        "colab_type": "code",
        "colab": {}
      },
      "source": [
        "from keras.layers import Dropout"
      ],
      "execution_count": 22,
      "outputs": []
    },
    {
      "cell_type": "code",
      "metadata": {
        "id": "P-BvTLF-WfC0",
        "colab_type": "code",
        "colab": {}
      },
      "source": [
        "classifier = Sequential()"
      ],
      "execution_count": 23,
      "outputs": []
    },
    {
      "cell_type": "markdown",
      "metadata": {
        "id": "O_EK5Tg7YfLU",
        "colab_type": "text"
      },
      "source": [
        "adding first hidden layer"
      ]
    },
    {
      "cell_type": "code",
      "metadata": {
        "id": "h_x00EQzXDpw",
        "colab_type": "code",
        "colab": {}
      },
      "source": [
        "classifier.add(Dense(units=6,kernel_initializer=\"he_uniform\", activation=\"relu\",input_dim = 11))"
      ],
      "execution_count": 24,
      "outputs": []
    },
    {
      "cell_type": "markdown",
      "metadata": {
        "id": "gKx6-srAYkgT",
        "colab_type": "text"
      },
      "source": [
        "adding second hidden layer"
      ]
    },
    {
      "cell_type": "code",
      "metadata": {
        "id": "QY3IxgSxYFAM",
        "colab_type": "code",
        "colab": {}
      },
      "source": [
        "classifier.add(Dense(units=6,kernel_initializer=\"he_uniform\", activation=\"relu\"))"
      ],
      "execution_count": 25,
      "outputs": []
    },
    {
      "cell_type": "markdown",
      "metadata": {
        "id": "osu_6atSYuK4",
        "colab_type": "text"
      },
      "source": [
        "adding output layer "
      ]
    },
    {
      "cell_type": "code",
      "metadata": {
        "id": "iZTh6zwXYeCy",
        "colab_type": "code",
        "colab": {}
      },
      "source": [
        "classifier.add(Dense(units=1,kernel_initializer=\"glorot_uniform\", activation=\"sigmoid\"))"
      ],
      "execution_count": 26,
      "outputs": []
    },
    {
      "cell_type": "markdown",
      "metadata": {
        "id": "cMify8p8aAiG",
        "colab_type": "text"
      },
      "source": [
        "Compiling the ANN"
      ]
    },
    {
      "cell_type": "code",
      "metadata": {
        "id": "T7HBpVIuZ_Bk",
        "colab_type": "code",
        "colab": {}
      },
      "source": [
        "classifier.compile(optimizer=\"Adamax\", loss=\"binary_crossentropy\", metrics = ['accuracy'])"
      ],
      "execution_count": 27,
      "outputs": []
    },
    {
      "cell_type": "markdown",
      "metadata": {
        "id": "IGfP_4Gme4Hr",
        "colab_type": "text"
      },
      "source": [
        "Fitting the ANN to the training set"
      ]
    },
    {
      "cell_type": "code",
      "metadata": {
        "id": "xGPDPieZbp9Q",
        "colab_type": "code",
        "colab": {
          "base_uri": "https://localhost:8080/",
          "height": 1000
        },
        "outputId": "9fccb469-7bd2-4719-bb22-60ad104a3ef5"
      },
      "source": [
        "model_history = classifier.fit(X_train, y_train, validation_split=0.2,batch_size=10, epochs=100)"
      ],
      "execution_count": 29,
      "outputs": [
        {
          "output_type": "stream",
          "text": [
            "Train on 6400 samples, validate on 1600 samples\n",
            "Epoch 1/100\n",
            "6400/6400 [==============================] - 4s 663us/step - loss: 0.5694 - accuracy: 0.7483 - val_loss: 0.4858 - val_accuracy: 0.8087\n",
            "Epoch 2/100\n",
            "6400/6400 [==============================] - 3s 391us/step - loss: 0.4670 - accuracy: 0.8061 - val_loss: 0.4644 - val_accuracy: 0.8069\n",
            "Epoch 3/100\n",
            "6400/6400 [==============================] - 3s 392us/step - loss: 0.4496 - accuracy: 0.8119 - val_loss: 0.4522 - val_accuracy: 0.8119\n",
            "Epoch 4/100\n",
            "6400/6400 [==============================] - 2s 388us/step - loss: 0.4394 - accuracy: 0.8166 - val_loss: 0.4439 - val_accuracy: 0.8125\n",
            "Epoch 5/100\n",
            "6400/6400 [==============================] - 2s 389us/step - loss: 0.4331 - accuracy: 0.8181 - val_loss: 0.4382 - val_accuracy: 0.8125\n",
            "Epoch 6/100\n",
            "6400/6400 [==============================] - 3s 399us/step - loss: 0.4281 - accuracy: 0.8200 - val_loss: 0.4336 - val_accuracy: 0.8144\n",
            "Epoch 7/100\n",
            "6400/6400 [==============================] - 3s 392us/step - loss: 0.4237 - accuracy: 0.8202 - val_loss: 0.4300 - val_accuracy: 0.8175\n",
            "Epoch 8/100\n",
            "6400/6400 [==============================] - 3s 392us/step - loss: 0.4203 - accuracy: 0.8206 - val_loss: 0.4259 - val_accuracy: 0.8163\n",
            "Epoch 9/100\n",
            "6400/6400 [==============================] - 2s 391us/step - loss: 0.4167 - accuracy: 0.8200 - val_loss: 0.4223 - val_accuracy: 0.8213\n",
            "Epoch 10/100\n",
            "6400/6400 [==============================] - 3s 391us/step - loss: 0.4127 - accuracy: 0.8219 - val_loss: 0.4191 - val_accuracy: 0.8244\n",
            "Epoch 11/100\n",
            "6400/6400 [==============================] - 3s 392us/step - loss: 0.4087 - accuracy: 0.8245 - val_loss: 0.4153 - val_accuracy: 0.8231\n",
            "Epoch 12/100\n",
            "6400/6400 [==============================] - 3s 398us/step - loss: 0.4045 - accuracy: 0.8242 - val_loss: 0.4114 - val_accuracy: 0.8231\n",
            "Epoch 13/100\n",
            "6400/6400 [==============================] - 2s 389us/step - loss: 0.3995 - accuracy: 0.8241 - val_loss: 0.4063 - val_accuracy: 0.8250\n",
            "Epoch 14/100\n",
            "6400/6400 [==============================] - 3s 395us/step - loss: 0.3939 - accuracy: 0.8275 - val_loss: 0.4010 - val_accuracy: 0.8294\n",
            "Epoch 15/100\n",
            "6400/6400 [==============================] - 2s 386us/step - loss: 0.3874 - accuracy: 0.8325 - val_loss: 0.3967 - val_accuracy: 0.8300\n",
            "Epoch 16/100\n",
            "6400/6400 [==============================] - 3s 397us/step - loss: 0.3804 - accuracy: 0.8409 - val_loss: 0.3937 - val_accuracy: 0.8313\n",
            "Epoch 17/100\n",
            "6400/6400 [==============================] - 3s 428us/step - loss: 0.3749 - accuracy: 0.8448 - val_loss: 0.3880 - val_accuracy: 0.8369\n",
            "Epoch 18/100\n",
            "6400/6400 [==============================] - 3s 442us/step - loss: 0.3693 - accuracy: 0.8497 - val_loss: 0.3849 - val_accuracy: 0.8400\n",
            "Epoch 19/100\n",
            "6400/6400 [==============================] - 3s 445us/step - loss: 0.3646 - accuracy: 0.8491 - val_loss: 0.3818 - val_accuracy: 0.8431\n",
            "Epoch 20/100\n",
            "6400/6400 [==============================] - 3s 426us/step - loss: 0.3609 - accuracy: 0.8512 - val_loss: 0.3790 - val_accuracy: 0.8425\n",
            "Epoch 21/100\n",
            "6400/6400 [==============================] - 2s 387us/step - loss: 0.3579 - accuracy: 0.8516 - val_loss: 0.3772 - val_accuracy: 0.8425\n",
            "Epoch 22/100\n",
            "6400/6400 [==============================] - 3s 398us/step - loss: 0.3550 - accuracy: 0.8544 - val_loss: 0.3750 - val_accuracy: 0.8425\n",
            "Epoch 23/100\n",
            "6400/6400 [==============================] - 3s 400us/step - loss: 0.3533 - accuracy: 0.8534 - val_loss: 0.3735 - val_accuracy: 0.8450\n",
            "Epoch 24/100\n",
            "6400/6400 [==============================] - 2s 390us/step - loss: 0.3515 - accuracy: 0.8552 - val_loss: 0.3724 - val_accuracy: 0.8425\n",
            "Epoch 25/100\n",
            "6400/6400 [==============================] - 3s 395us/step - loss: 0.3501 - accuracy: 0.8548 - val_loss: 0.3712 - val_accuracy: 0.8438\n",
            "Epoch 26/100\n",
            "6400/6400 [==============================] - 3s 397us/step - loss: 0.3490 - accuracy: 0.8559 - val_loss: 0.3699 - val_accuracy: 0.8462\n",
            "Epoch 27/100\n",
            "6400/6400 [==============================] - 3s 399us/step - loss: 0.3482 - accuracy: 0.8566 - val_loss: 0.3686 - val_accuracy: 0.8456\n",
            "Epoch 28/100\n",
            "6400/6400 [==============================] - 3s 408us/step - loss: 0.3471 - accuracy: 0.8555 - val_loss: 0.3683 - val_accuracy: 0.8431\n",
            "Epoch 29/100\n",
            "6400/6400 [==============================] - 3s 397us/step - loss: 0.3466 - accuracy: 0.8577 - val_loss: 0.3692 - val_accuracy: 0.8444\n",
            "Epoch 30/100\n",
            "6400/6400 [==============================] - 3s 396us/step - loss: 0.3457 - accuracy: 0.8570 - val_loss: 0.3679 - val_accuracy: 0.8450\n",
            "Epoch 31/100\n",
            "6400/6400 [==============================] - 3s 393us/step - loss: 0.3456 - accuracy: 0.8562 - val_loss: 0.3664 - val_accuracy: 0.8462\n",
            "Epoch 32/100\n",
            "6400/6400 [==============================] - 3s 396us/step - loss: 0.3447 - accuracy: 0.8589 - val_loss: 0.3656 - val_accuracy: 0.8469\n",
            "Epoch 33/100\n",
            "6400/6400 [==============================] - 3s 400us/step - loss: 0.3442 - accuracy: 0.8591 - val_loss: 0.3662 - val_accuracy: 0.8487\n",
            "Epoch 34/100\n",
            "6400/6400 [==============================] - 2s 389us/step - loss: 0.3442 - accuracy: 0.8587 - val_loss: 0.3645 - val_accuracy: 0.8481\n",
            "Epoch 35/100\n",
            "6400/6400 [==============================] - 3s 398us/step - loss: 0.3437 - accuracy: 0.8580 - val_loss: 0.3640 - val_accuracy: 0.8494\n",
            "Epoch 36/100\n",
            "6400/6400 [==============================] - 3s 397us/step - loss: 0.3430 - accuracy: 0.8591 - val_loss: 0.3639 - val_accuracy: 0.8481\n",
            "Epoch 37/100\n",
            "6400/6400 [==============================] - 3s 395us/step - loss: 0.3427 - accuracy: 0.8583 - val_loss: 0.3637 - val_accuracy: 0.8481\n",
            "Epoch 38/100\n",
            "6400/6400 [==============================] - 3s 398us/step - loss: 0.3424 - accuracy: 0.8602 - val_loss: 0.3632 - val_accuracy: 0.8506\n",
            "Epoch 39/100\n",
            "6400/6400 [==============================] - 3s 392us/step - loss: 0.3424 - accuracy: 0.8573 - val_loss: 0.3631 - val_accuracy: 0.8494\n",
            "Epoch 40/100\n",
            "6400/6400 [==============================] - 3s 398us/step - loss: 0.3422 - accuracy: 0.8586 - val_loss: 0.3625 - val_accuracy: 0.8494\n",
            "Epoch 41/100\n",
            "6400/6400 [==============================] - 2s 388us/step - loss: 0.3418 - accuracy: 0.8595 - val_loss: 0.3621 - val_accuracy: 0.8512\n",
            "Epoch 42/100\n",
            "6400/6400 [==============================] - 3s 394us/step - loss: 0.3416 - accuracy: 0.8589 - val_loss: 0.3620 - val_accuracy: 0.8494\n",
            "Epoch 43/100\n",
            "6400/6400 [==============================] - 3s 401us/step - loss: 0.3412 - accuracy: 0.8602 - val_loss: 0.3624 - val_accuracy: 0.8469\n",
            "Epoch 44/100\n",
            "6400/6400 [==============================] - 3s 404us/step - loss: 0.3410 - accuracy: 0.8583 - val_loss: 0.3616 - val_accuracy: 0.8475\n",
            "Epoch 45/100\n",
            "6400/6400 [==============================] - 3s 397us/step - loss: 0.3406 - accuracy: 0.8583 - val_loss: 0.3616 - val_accuracy: 0.8481\n",
            "Epoch 46/100\n",
            "6400/6400 [==============================] - 3s 396us/step - loss: 0.3406 - accuracy: 0.8606 - val_loss: 0.3610 - val_accuracy: 0.8512\n",
            "Epoch 47/100\n",
            "6400/6400 [==============================] - 2s 388us/step - loss: 0.3405 - accuracy: 0.8605 - val_loss: 0.3612 - val_accuracy: 0.8487\n",
            "Epoch 48/100\n",
            "6400/6400 [==============================] - 2s 388us/step - loss: 0.3398 - accuracy: 0.8608 - val_loss: 0.3612 - val_accuracy: 0.8462\n",
            "Epoch 49/100\n",
            "6400/6400 [==============================] - 3s 398us/step - loss: 0.3393 - accuracy: 0.8620 - val_loss: 0.3611 - val_accuracy: 0.8456\n",
            "Epoch 50/100\n",
            "6400/6400 [==============================] - 3s 395us/step - loss: 0.3396 - accuracy: 0.8602 - val_loss: 0.3611 - val_accuracy: 0.8475\n",
            "Epoch 51/100\n",
            "6400/6400 [==============================] - 3s 396us/step - loss: 0.3397 - accuracy: 0.8614 - val_loss: 0.3605 - val_accuracy: 0.8506\n",
            "Epoch 52/100\n",
            "6400/6400 [==============================] - 3s 400us/step - loss: 0.3393 - accuracy: 0.8594 - val_loss: 0.3600 - val_accuracy: 0.8525\n",
            "Epoch 53/100\n",
            "6400/6400 [==============================] - 3s 395us/step - loss: 0.3392 - accuracy: 0.8609 - val_loss: 0.3598 - val_accuracy: 0.8544\n",
            "Epoch 54/100\n",
            "6400/6400 [==============================] - 3s 396us/step - loss: 0.3389 - accuracy: 0.8597 - val_loss: 0.3598 - val_accuracy: 0.8506\n",
            "Epoch 55/100\n",
            "6400/6400 [==============================] - 3s 392us/step - loss: 0.3387 - accuracy: 0.8603 - val_loss: 0.3597 - val_accuracy: 0.8525\n",
            "Epoch 56/100\n",
            "6400/6400 [==============================] - 3s 395us/step - loss: 0.3388 - accuracy: 0.8603 - val_loss: 0.3596 - val_accuracy: 0.8550\n",
            "Epoch 57/100\n",
            "6400/6400 [==============================] - 3s 393us/step - loss: 0.3384 - accuracy: 0.8608 - val_loss: 0.3591 - val_accuracy: 0.8537\n",
            "Epoch 58/100\n",
            "6400/6400 [==============================] - 3s 398us/step - loss: 0.3384 - accuracy: 0.8594 - val_loss: 0.3593 - val_accuracy: 0.8506\n",
            "Epoch 59/100\n",
            "6400/6400 [==============================] - 3s 395us/step - loss: 0.3382 - accuracy: 0.8630 - val_loss: 0.3591 - val_accuracy: 0.8544\n",
            "Epoch 60/100\n",
            "6400/6400 [==============================] - 2s 391us/step - loss: 0.3381 - accuracy: 0.8611 - val_loss: 0.3591 - val_accuracy: 0.8531\n",
            "Epoch 61/100\n",
            "6400/6400 [==============================] - 3s 400us/step - loss: 0.3379 - accuracy: 0.8611 - val_loss: 0.3590 - val_accuracy: 0.8556\n",
            "Epoch 62/100\n",
            "6400/6400 [==============================] - 3s 401us/step - loss: 0.3380 - accuracy: 0.8600 - val_loss: 0.3582 - val_accuracy: 0.8525\n",
            "Epoch 63/100\n",
            "6400/6400 [==============================] - 3s 398us/step - loss: 0.3378 - accuracy: 0.8611 - val_loss: 0.3598 - val_accuracy: 0.8500\n",
            "Epoch 64/100\n",
            "6400/6400 [==============================] - 3s 398us/step - loss: 0.3377 - accuracy: 0.8608 - val_loss: 0.3584 - val_accuracy: 0.8525\n",
            "Epoch 65/100\n",
            "6400/6400 [==============================] - 2s 389us/step - loss: 0.3378 - accuracy: 0.8617 - val_loss: 0.3580 - val_accuracy: 0.8550\n",
            "Epoch 66/100\n",
            "6400/6400 [==============================] - 3s 415us/step - loss: 0.3376 - accuracy: 0.8600 - val_loss: 0.3585 - val_accuracy: 0.8506\n",
            "Epoch 67/100\n",
            "6400/6400 [==============================] - 2s 390us/step - loss: 0.3375 - accuracy: 0.8611 - val_loss: 0.3588 - val_accuracy: 0.8494\n",
            "Epoch 68/100\n",
            "6400/6400 [==============================] - 3s 399us/step - loss: 0.3371 - accuracy: 0.8603 - val_loss: 0.3587 - val_accuracy: 0.8519\n",
            "Epoch 69/100\n",
            "6400/6400 [==============================] - 2s 390us/step - loss: 0.3371 - accuracy: 0.8595 - val_loss: 0.3583 - val_accuracy: 0.8487\n",
            "Epoch 70/100\n",
            "6400/6400 [==============================] - 3s 395us/step - loss: 0.3372 - accuracy: 0.8589 - val_loss: 0.3582 - val_accuracy: 0.8519\n",
            "Epoch 71/100\n",
            "6400/6400 [==============================] - 3s 406us/step - loss: 0.3368 - accuracy: 0.8592 - val_loss: 0.3586 - val_accuracy: 0.8487\n",
            "Epoch 72/100\n",
            "6400/6400 [==============================] - 3s 430us/step - loss: 0.3372 - accuracy: 0.8609 - val_loss: 0.3582 - val_accuracy: 0.8519\n",
            "Epoch 73/100\n",
            "6400/6400 [==============================] - 3s 415us/step - loss: 0.3366 - accuracy: 0.8616 - val_loss: 0.3584 - val_accuracy: 0.8525\n",
            "Epoch 74/100\n",
            "6400/6400 [==============================] - 3s 393us/step - loss: 0.3367 - accuracy: 0.8603 - val_loss: 0.3587 - val_accuracy: 0.8512\n",
            "Epoch 75/100\n",
            "6400/6400 [==============================] - 3s 395us/step - loss: 0.3365 - accuracy: 0.8619 - val_loss: 0.3585 - val_accuracy: 0.8519\n",
            "Epoch 76/100\n",
            "6400/6400 [==============================] - 3s 394us/step - loss: 0.3367 - accuracy: 0.8606 - val_loss: 0.3580 - val_accuracy: 0.8500\n",
            "Epoch 77/100\n",
            "6400/6400 [==============================] - 2s 390us/step - loss: 0.3365 - accuracy: 0.8605 - val_loss: 0.3580 - val_accuracy: 0.8506\n",
            "Epoch 78/100\n",
            "6400/6400 [==============================] - 3s 403us/step - loss: 0.3367 - accuracy: 0.8617 - val_loss: 0.3585 - val_accuracy: 0.8512\n",
            "Epoch 79/100\n",
            "6400/6400 [==============================] - 3s 391us/step - loss: 0.3368 - accuracy: 0.8605 - val_loss: 0.3573 - val_accuracy: 0.8500\n",
            "Epoch 80/100\n",
            "6400/6400 [==============================] - 3s 393us/step - loss: 0.3362 - accuracy: 0.8619 - val_loss: 0.3571 - val_accuracy: 0.8500\n",
            "Epoch 81/100\n",
            "6400/6400 [==============================] - 3s 397us/step - loss: 0.3365 - accuracy: 0.8623 - val_loss: 0.3572 - val_accuracy: 0.8500\n",
            "Epoch 82/100\n",
            "6400/6400 [==============================] - 3s 391us/step - loss: 0.3362 - accuracy: 0.8628 - val_loss: 0.3572 - val_accuracy: 0.8537\n",
            "Epoch 83/100\n",
            "6400/6400 [==============================] - 3s 392us/step - loss: 0.3358 - accuracy: 0.8620 - val_loss: 0.3574 - val_accuracy: 0.8500\n",
            "Epoch 84/100\n",
            "6400/6400 [==============================] - 2s 390us/step - loss: 0.3361 - accuracy: 0.8609 - val_loss: 0.3571 - val_accuracy: 0.8512\n",
            "Epoch 85/100\n",
            "6400/6400 [==============================] - 3s 393us/step - loss: 0.3359 - accuracy: 0.8633 - val_loss: 0.3570 - val_accuracy: 0.8475\n",
            "Epoch 86/100\n",
            "6400/6400 [==============================] - 3s 397us/step - loss: 0.3357 - accuracy: 0.8620 - val_loss: 0.3576 - val_accuracy: 0.8531\n",
            "Epoch 87/100\n",
            "6400/6400 [==============================] - 3s 395us/step - loss: 0.3357 - accuracy: 0.8617 - val_loss: 0.3563 - val_accuracy: 0.8494\n",
            "Epoch 88/100\n",
            "6400/6400 [==============================] - 3s 396us/step - loss: 0.3356 - accuracy: 0.8611 - val_loss: 0.3566 - val_accuracy: 0.8500\n",
            "Epoch 89/100\n",
            "6400/6400 [==============================] - 2s 387us/step - loss: 0.3356 - accuracy: 0.8628 - val_loss: 0.3563 - val_accuracy: 0.8500\n",
            "Epoch 90/100\n",
            "6400/6400 [==============================] - 2s 386us/step - loss: 0.3350 - accuracy: 0.8620 - val_loss: 0.3561 - val_accuracy: 0.8487\n",
            "Epoch 91/100\n",
            "6400/6400 [==============================] - 3s 407us/step - loss: 0.3355 - accuracy: 0.8628 - val_loss: 0.3557 - val_accuracy: 0.8487\n",
            "Epoch 92/100\n",
            "6400/6400 [==============================] - 2s 390us/step - loss: 0.3350 - accuracy: 0.8633 - val_loss: 0.3572 - val_accuracy: 0.8506\n",
            "Epoch 93/100\n",
            "6400/6400 [==============================] - 3s 394us/step - loss: 0.3350 - accuracy: 0.8625 - val_loss: 0.3568 - val_accuracy: 0.8512\n",
            "Epoch 94/100\n",
            "6400/6400 [==============================] - 3s 396us/step - loss: 0.3345 - accuracy: 0.8608 - val_loss: 0.3557 - val_accuracy: 0.8506\n",
            "Epoch 95/100\n",
            "6400/6400 [==============================] - 3s 401us/step - loss: 0.3340 - accuracy: 0.8641 - val_loss: 0.3586 - val_accuracy: 0.8500\n",
            "Epoch 96/100\n",
            "6400/6400 [==============================] - 2s 388us/step - loss: 0.3347 - accuracy: 0.8633 - val_loss: 0.3561 - val_accuracy: 0.8537\n",
            "Epoch 97/100\n",
            "6400/6400 [==============================] - 3s 401us/step - loss: 0.3345 - accuracy: 0.8619 - val_loss: 0.3559 - val_accuracy: 0.8519\n",
            "Epoch 98/100\n",
            "6400/6400 [==============================] - 3s 394us/step - loss: 0.3348 - accuracy: 0.8627 - val_loss: 0.3557 - val_accuracy: 0.8506\n",
            "Epoch 99/100\n",
            "6400/6400 [==============================] - 3s 396us/step - loss: 0.3344 - accuracy: 0.8634 - val_loss: 0.3566 - val_accuracy: 0.8525\n",
            "Epoch 100/100\n",
            "6400/6400 [==============================] - 2s 381us/step - loss: 0.3342 - accuracy: 0.8625 - val_loss: 0.3574 - val_accuracy: 0.8506\n"
          ],
          "name": "stdout"
        }
      ]
    },
    {
      "cell_type": "markdown",
      "metadata": {
        "id": "y2MnXIj4fvbp",
        "colab_type": "text"
      },
      "source": [
        "list all data in history"
      ]
    },
    {
      "cell_type": "code",
      "metadata": {
        "id": "9aOWH7mLdi7g",
        "colab_type": "code",
        "colab": {
          "base_uri": "https://localhost:8080/",
          "height": 34
        },
        "outputId": "5644e316-1c60-48be-8511-95388f694018"
      },
      "source": [
        "print(model_history.history.keys())"
      ],
      "execution_count": 30,
      "outputs": [
        {
          "output_type": "stream",
          "text": [
            "dict_keys(['val_loss', 'val_accuracy', 'loss', 'accuracy'])\n"
          ],
          "name": "stdout"
        }
      ]
    },
    {
      "cell_type": "markdown",
      "metadata": {
        "id": "AQuZQxGjf4K4",
        "colab_type": "text"
      },
      "source": [
        "# summarize history for accuracy"
      ]
    },
    {
      "cell_type": "code",
      "metadata": {
        "id": "ZGsw2nUAfOkQ",
        "colab_type": "code",
        "colab": {
          "base_uri": "https://localhost:8080/",
          "height": 295
        },
        "outputId": "1a8cfc29-31c2-4caa-bff9-6d77acd86fa8"
      },
      "source": [
        "plt.plot(model_history.history['accuracy'])\n",
        "plt.plot(model_history.history['val_accuracy'])\n",
        "plt.title('model accuracy')\n",
        "plt.ylabel('accuracy')\n",
        "plt.xlabel('epoch')\n",
        "plt.legend(['train', 'test'], loc='upper left')\n",
        "plt.show()\n"
      ],
      "execution_count": 32,
      "outputs": [
        {
          "output_type": "display_data",
          "data": {
            "image/png": "[encoded data removed]",
            "text/plain": [
              "<Figure size 432x288 with 1 Axes>"
            ]
          },
          "metadata": {
            "tags": [],
            "needs_background": "light"
          }
        }
      ]
    },
    {
      "cell_type": "markdown",
      "metadata": {
        "id": "IPCC0BhBf-yH",
        "colab_type": "text"
      },
      "source": [
        "# summarize history for loss"
      ]
    },
    {
      "cell_type": "code",
      "metadata": {
        "id": "Qw10Y0d-fT5R",
        "colab_type": "code",
        "colab": {
          "base_uri": "https://localhost:8080/",
          "height": 295
        },
        "outputId": "984f68b9-be43-4751-91b9-7b6fdb170dda"
      },
      "source": [
        "plt.plot(model_history.history['loss'])\n",
        "plt.plot(model_history.history['val_loss'])\n",
        "plt.title('model loss')\n",
        "plt.ylabel('loss')\n",
        "plt.xlabel('epoch')\n",
        "plt.legend(['train', 'test'], loc='upper left')\n",
        "plt.show()"
      ],
      "execution_count": 33,
      "outputs": [
        {
          "output_type": "display_data",
          "data": {
            "image/png": "[encoded data removed]",
            "text/plain": [
              "<Figure size 432x288 with 1 Axes>"
            ]
          },
          "metadata": {
            "tags": [],
            "needs_background": "light"
          }
        }
      ]
    },
    {
      "cell_type": "markdown",
      "metadata": {
        "id": "ZEQcMKfogLEX",
        "colab_type": "text"
      },
      "source": [
        "#Making the predictions and evaluating the model\n",
        "Predicting the Test set results"
      ]
    },
    {
      "cell_type": "code",
      "metadata": {
        "id": "NsFt_QPyfrtZ",
        "colab_type": "code",
        "colab": {}
      },
      "source": [
        "y_pred = classifier.predict(X_test)\n",
        "y_pred = (y_pred > 0.5)"
      ],
      "execution_count": 34,
      "outputs": []
    },
    {
      "cell_type": "code",
      "metadata": {
        "id": "d4Rn5LLNkxJZ",
        "colab_type": "code",
        "colab": {
          "base_uri": "https://localhost:8080/",
          "height": 51
        },
        "outputId": "a86b7d48-ec7d-4359-fe12-787bfb31f2cf"
      },
      "source": [
        "from sklearn.metrics import confusion_matrix\n",
        "cm = confusion_matrix(y_test, y_pred)\n",
        "cm"
      ],
      "execution_count": 36,
      "outputs": [
        {
          "output_type": "execute_result",
          "data": {
            "text/plain": [
              "array([[1495,  100],\n",
              "       [ 186,  219]])"
            ]
          },
          "metadata": {
            "tags": []
          },
          "execution_count": 36
        }
      ]
    },
    {
      "cell_type": "code",
      "metadata": {
        "id": "XR_legnMk4gM",
        "colab_type": "code",
        "colab": {
          "base_uri": "https://localhost:8080/",
          "height": 34
        },
        "outputId": "9e85e92c-9cd1-40dc-fc96-38755ca7a5c8"
      },
      "source": [
        "from sklearn.metrics import accuracy_score\n",
        "score=accuracy_score(y_pred,y_test)\n",
        "score"
      ],
      "execution_count": 37,
      "outputs": [
        {
          "output_type": "execute_result",
          "data": {
            "text/plain": [
              "0.857"
            ]
          },
          "metadata": {
            "tags": []
          },
          "execution_count": 37
        }
      ]
    },
    {
      "cell_type": "code",
      "metadata": {
        "id": "84HOtF9WlBAv",
        "colab_type": "code",
        "colab": {}
      },
      "source": [
        ""
      ],
      "execution_count": null,
      "outputs": []
    }
  ]
}